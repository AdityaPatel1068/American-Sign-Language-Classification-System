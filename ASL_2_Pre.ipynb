{
 "cells": [
  {
   "cell_type": "code",
   "execution_count": 2,
   "metadata": {},
   "outputs": [
    {
     "name": "stdout",
     "output_type": "stream",
     "text": [
      "Total images found: 87028\n",
      "Total images processed: 87028\n"
     ]
    }
   ],
   "source": [
    "import os\n",
    "from PIL import Image\n",
    "import random\n",
    "\n",
    "def preprocess_and_save_images(input_folder, output_folder, target_size=(256, 256)):\n",
    "    \"\"\"\n",
    "    Preprocess images from the input folder and save them to the output folder,\n",
    "    maintaining the directory structure.\n",
    "    \"\"\"\n",
    "    total_images = 0\n",
    "    total_processed_images = 0\n",
    "\n",
    "    # Traverse the input folder\n",
    "    for root, dirs, files in os.walk(input_folder):\n",
    "        for file in files:\n",
    "            # Only process image files\n",
    "            if file.lower().endswith(('.png', '.jpg', '.jpeg')):\n",
    "                total_images += 1\n",
    "\n",
    "                # Full path to the input image\n",
    "                input_image_path = os.path.join(root, file)\n",
    "\n",
    "                # Create the corresponding output folder structure\n",
    "                relative_path = os.path.relpath(root, input_folder)\n",
    "                output_folder_path = os.path.join(output_folder, relative_path)\n",
    "                os.makedirs(output_folder_path, exist_ok=True)\n",
    "\n",
    "                # Output image path\n",
    "                output_image_path = os.path.join(output_folder_path, file)\n",
    "\n",
    "                # Preprocess and save the image\n",
    "                if image_process(input_image_path, output_image_path, target_size):\n",
    "                    total_processed_images += 1\n",
    "\n",
    "    print(f\"Total images found: {total_images}\")\n",
    "    print(f\"Total images processed: {total_processed_images}\")\n",
    "\n",
    "\n",
    "def image_process(input_image_path, output_image_path, target_size=(256, 256)):\n",
    "    \"\"\"\n",
    "    Preprocess a single image by resizing, converting to grayscale, and adding noise.\n",
    "    \"\"\"\n",
    "    try:\n",
    "        # Open the image\n",
    "        image = Image.open(input_image_path)\n",
    "\n",
    "        # Resize the image\n",
    "        resized_image = image.resize(target_size)\n",
    "\n",
    "        # Convert the image to grayscale\n",
    "        grayscale_image = resized_image.convert(\"L\")\n",
    "\n",
    "        # Add random noise (example: salt and pepper noise)\n",
    "        noisy_image = grayscale_image.point(lambda p: p + random.choice([-50, 0, 50]) if random.random() < 0.05 else p)\n",
    "\n",
    "        # Save the preprocessed image\n",
    "        noisy_image.save(output_image_path)\n",
    "\n",
    "        return True\n",
    "    except Exception as e:\n",
    "        print(f\"Error processing {input_image_path}: {str(e)}\")\n",
    "        return False\n",
    "\n",
    "\n",
    "# Specify the paths to the original images and the output folder\n",
    "original_images_folder_path = r'D:\\AmericanSignLanguage\\Raw'\n",
    "output_folder_path = r'D:\\AmericanSignLanguage\\No_bg'\n",
    "\n",
    "# Preprocess and save all images while maintaining the folder structure\n",
    "preprocess_and_save_images(original_images_folder_path, output_folder_path)\n"
   ]
  }
 ],
 "metadata": {
  "kernelspec": {
   "display_name": "Python 3",
   "language": "python",
   "name": "python3"
  },
  "language_info": {
   "codemirror_mode": {
    "name": "ipython",
    "version": 3
   },
   "file_extension": ".py",
   "mimetype": "text/x-python",
   "name": "python",
   "nbconvert_exporter": "python",
   "pygments_lexer": "ipython3",
   "version": "3.11.7"
  }
 },
 "nbformat": 4,
 "nbformat_minor": 2
}
